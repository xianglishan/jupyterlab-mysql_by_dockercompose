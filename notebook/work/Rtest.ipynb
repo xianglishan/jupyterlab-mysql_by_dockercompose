{
 "cells": [
  {
   "cell_type": "markdown",
   "id": "fb2b490a-6c81-4b98-88b1-21f67e901695",
   "metadata": {},
   "source": [
    "#### Rのテスト\n",
    "たぶんこれRの代入&printのコード"
   ]
  },
  {
   "cell_type": "markdown",
   "id": "de1ae93d-86aa-4ddd-a7fe-dc42b92795ed",
   "metadata": {},
   "source": [
    "## 二次元データ構造\n",
    "x <- matrix(1:12, ncol = 6,  nrow = 2)"
   ]
  },
  {
   "cell_type": "code",
   "execution_count": 3,
   "id": "54c4366e-65d9-4435-9c79-08cfd19fcbcb",
   "metadata": {},
   "outputs": [
    {
     "name": "stdout",
     "output_type": "stream",
     "text": [
      "     [,1] [,2] [,3] [,4] [,5] [,6]\n",
      "[1,]    1    3    5    7    9   11\n",
      "[2,]    2    4    6    8   10   12\n"
     ]
    }
   ],
   "source": [
    "## print\n",
    "print(x)"
   ]
  },
  {
   "cell_type": "code",
   "execution_count": null,
   "id": "51288967-a658-4797-b478-0f314d673f38",
   "metadata": {},
   "outputs": [],
   "source": []
  }
 ],
 "metadata": {
  "kernelspec": {
   "display_name": "R",
   "language": "R",
   "name": "ir"
  },
  "language_info": {
   "codemirror_mode": "r",
   "file_extension": ".r",
   "mimetype": "text/x-r-source",
   "name": "R",
   "pygments_lexer": "r",
   "version": "4.1.1"
  }
 },
 "nbformat": 4,
 "nbformat_minor": 5
}
