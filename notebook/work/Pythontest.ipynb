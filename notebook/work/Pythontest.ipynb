{
 "cells": [
  {
   "cell_type": "markdown",
   "id": "10baeae8-07c3-4ad3-ac59-3630703e08ca",
   "metadata": {},
   "source": [
    "#### Pythonのテスト\n",
    "dataframeをreshapeしてprintするpythonのコード"
   ]
  },
  {
   "cell_type": "code",
   "execution_count": 2,
   "id": "5eed83eb-f4f4-4354-b483-89763fd805be",
   "metadata": {},
   "outputs": [],
   "source": [
    "import pandas as pd\n",
    "import numpy as np"
   ]
  },
  {
   "cell_type": "code",
   "execution_count": 3,
   "id": "3af498c4-a1df-47d2-8882-d4b1a6eea419",
   "metadata": {},
   "outputs": [],
   "source": [
    "df_simple = pd.DataFrame(np.arange(12).reshape(3, 4))"
   ]
  },
  {
   "cell_type": "code",
   "execution_count": 4,
   "id": "5c27e166-f3a4-43c2-a57d-b019705c18f7",
   "metadata": {},
   "outputs": [
    {
     "name": "stdout",
     "output_type": "stream",
     "text": [
      "   0  1   2   3\n",
      "0  0  1   2   3\n",
      "1  4  5   6   7\n",
      "2  8  9  10  11\n"
     ]
    }
   ],
   "source": [
    "print(df_simple)"
   ]
  }
 ],
 "metadata": {
  "kernelspec": {
   "display_name": "Python 3 (ipykernel)",
   "language": "python",
   "name": "python3"
  },
  "language_info": {
   "codemirror_mode": {
    "name": "ipython",
    "version": 3
   },
   "file_extension": ".py",
   "mimetype": "text/x-python",
   "name": "python",
   "nbconvert_exporter": "python",
   "pygments_lexer": "ipython3",
   "version": "3.9.7"
  }
 },
 "nbformat": 4,
 "nbformat_minor": 5
}
